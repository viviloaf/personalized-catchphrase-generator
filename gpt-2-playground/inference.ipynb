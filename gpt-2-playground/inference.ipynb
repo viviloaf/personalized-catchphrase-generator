{
 "cells": [
  {
   "cell_type": "code",
   "execution_count": 1,
   "metadata": {},
   "outputs": [],
   "source": [
    "from aitextgen import aitextgen"
   ]
  },
  {
   "cell_type": "code",
   "execution_count": 2,
   "metadata": {},
   "outputs": [
    {
     "name": "stderr",
     "output_type": "stream",
     "text": [
      "INFO:aitextgen:Loading GPT-2 model from provided my_fb_trained_model//pytorch_model.bin.\n",
      "INFO:aitextgen:Using the default GPT-2 Tokenizer.\n"
     ]
    }
   ],
   "source": [
    "ai = aitextgen(model=\"my_fb_trained_model//pytorch_model.bin\", config=\"my_fb_trained_model//config.json\", to_gpu=True)"
   ]
  },
  {
   "cell_type": "code",
   "execution_count": 10,
   "metadata": {},
   "outputs": [
    {
     "name": "stdout",
     "output_type": "stream",
     "text": [
      "\u001b[1mwhat do you think about turtles?\u001b[0m\n",
      "\n",
      "\u001b[1mwhat do you think about turtles?\u001b[0m\n",
      "\n",
      "\u001b[1mwhat do you think about turtles?\u001b[0m They're a thing off\n",
      "\n",
      "\u001b[1mwhat do you think about turtles?\u001b[0m They're very mysterious\n",
      "\n",
      "\u001b[1mwhat do you think about turtles?\u001b[0m\n",
      "\n",
      "\u001b[1mwhat do you think about turtles?\u001b[0m\n",
      "\n",
      "\u001b[1mwhat do you think about turtles?\u001b[0m\n",
      "\n",
      "\u001b[1mwhat do you think about turtles?\u001b[0m\n",
      "\n",
      "\u001b[1mwhat do you think about turtles?\u001b[0m\n",
      "\n",
      "\u001b[1mwhat do you think about turtles?\u001b[0m\n",
      "\n",
      "\u001b[1mwhat do you think about turtles?\u001b[0m\n",
      "\n",
      "\u001b[1mwhat do you think about turtles?\u001b[0m They're just cute and thought you're a good little girl who's soft?\n",
      "\n",
      "\u001b[1mwhat do you think about turtles?\u001b[0m\n",
      "\n",
      "\u001b[1mwhat do you think about turtles?\u001b[0m\n",
      "\n",
      "\u001b[1mwhat do you think about turtles?\u001b[0m\n",
      "\n",
      "\u001b[1mwhat do you think about turtles?\u001b[0m\n",
      "\n",
      "\u001b[1mwhat do you think about turtles?\u001b[0m\n",
      "\n",
      "\u001b[1mwhat do you think about turtles?\u001b[0m\n",
      "\n",
      "\u001b[1mwhat do you think about turtles?\u001b[0m\n",
      "\n",
      "\u001b[1mwhat do you think about turtles?\u001b[0m\n",
      "\n"
     ]
    }
   ],
   "source": [
    "for i in range(20):\n",
    "    ai.generate(prompt='what do you think about turtles?',\n",
    "               temperature=1,\n",
    "               max_length=1024)"
   ]
  },
  {
   "cell_type": "code",
   "execution_count": null,
   "metadata": {},
   "outputs": [],
   "source": [
    "Seq2seq"
   ]
  }
 ],
 "metadata": {
  "kernelspec": {
   "display_name": "Python 3",
   "language": "python",
   "name": "python3"
  },
  "language_info": {
   "codemirror_mode": {
    "name": "ipython",
    "version": 3
   },
   "file_extension": ".py",
   "mimetype": "text/x-python",
   "name": "python",
   "nbconvert_exporter": "python",
   "pygments_lexer": "ipython3",
   "version": "3.8.3"
  }
 },
 "nbformat": 4,
 "nbformat_minor": 4
}
