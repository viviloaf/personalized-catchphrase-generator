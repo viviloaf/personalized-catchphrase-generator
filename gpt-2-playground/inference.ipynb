{
 "cells": [
  {
   "cell_type": "code",
   "execution_count": 1,
   "metadata": {},
   "outputs": [],
   "source": [
    "import tensorflow as tf\n",
    "from aitextgen import aitextgen\n",
    "import numpy as np"
   ]
  },
  {
   "cell_type": "code",
   "execution_count": 2,
   "metadata": {},
   "outputs": [],
   "source": [
    "physical_devices = tf.config.list_physical_devices('GPU')\n",
    "try:\n",
    "    tf.config.experimental.set_memory_growth(physical_devices[0], True)\n",
    "except:\n",
    "    # Invalid device or cannot modify virtual devices once initialized.\n",
    "    pass"
   ]
  },
  {
   "cell_type": "code",
   "execution_count": 3,
   "metadata": {},
   "outputs": [
    {
     "name": "stderr",
     "output_type": "stream",
     "text": [
      "INFO:aitextgen:Loading GPT-2 model from provided my_fb_trained_model//pytorch_model.bin.\n",
      "INFO:aitextgen:Using the default GPT-2 Tokenizer.\n"
     ]
    }
   ],
   "source": [
    "ai = aitextgen(model=\"my_fb_trained_model//pytorch_model.bin\", config=\"my_fb_trained_model//config.json\", to_gpu=True)"
   ]
  },
  {
   "cell_type": "code",
   "execution_count": 19,
   "metadata": {},
   "outputs": [],
   "source": [
    "def twitter_respond(passing_input, temperature):\n",
    "    \n",
    "    def generate_response(passing_input):\n",
    "        ai_output = ai.generate(prompt=passing_input,\n",
    "                   temperature=temperature,\n",
    "                   max_length=1024,\n",
    "                    return_as_list=True)\n",
    "        return ai_output\n",
    "        \n",
    "    ai_output = generate_response(passing_input)\n",
    "    \n",
    "    if ai_output[0] == passing_input or ai_output[0].split(passing_input) != ' \\\\n':\n",
    "        new_passing_input = np.random.choice(passing_input.split())\n",
    "        new_passing_output = generate_response(new_passing_input)\n",
    "        \n",
    "        print(passing_input)\n",
    "        return f'> {new_passing_output[0]}'\n",
    "\n",
    "    else:\n",
    "        print(passing_input)\n",
    "        return print(f'> {ai_output.split(passing_input)}')"
   ]
  },
  {
   "cell_type": "code",
   "execution_count": 25,
   "metadata": {},
   "outputs": [
    {
     "name": "stdout",
     "output_type": "stream",
     "text": [
      "what do you think about turtles?\n"
     ]
    },
    {
     "data": {
      "text/plain": [
       "'> what was so nice about the photo\\n'"
      ]
     },
     "execution_count": 25,
     "metadata": {},
     "output_type": "execute_result"
    }
   ],
   "source": [
    "twitter_respond(passing_input = 'what do you think about turtles?', temperature=0.7)"
   ]
  },
  {
   "cell_type": "code",
   "execution_count": null,
   "metadata": {},
   "outputs": [],
   "source": [
    "# add in options to change temperature of text generation\n",
    "# add in random word prompt from the vocabulary"
   ]
  }
 ],
 "metadata": {
  "kernelspec": {
   "display_name": "Python 3",
   "language": "python",
   "name": "python3"
  },
  "language_info": {
   "codemirror_mode": {
    "name": "ipython",
    "version": 3
   },
   "file_extension": ".py",
   "mimetype": "text/x-python",
   "name": "python",
   "nbconvert_exporter": "python",
   "pygments_lexer": "ipython3",
   "version": "3.8.3"
  }
 },
 "nbformat": 4,
 "nbformat_minor": 4
}
