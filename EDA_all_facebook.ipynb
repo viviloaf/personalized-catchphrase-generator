{
 "cells": [
  {
   "cell_type": "code",
   "execution_count": 1,
   "metadata": {},
   "outputs": [],
   "source": [
    "import pandas as pd\n",
    "#from dask.distributed import Client, LocalCluster\n",
    "#import dask.dataframe as pd\n",
    "import numpy as np\n",
    "import matplotlib.pyplot as plt\n",
    "import seaborn as sns\n",
    "import missingno as msno\n",
    "import json\n",
    "from pathlib import Path\n",
    "from operator import itemgetter\n",
    "import os\n",
    "\n",
    "from sklearn.feature_extraction.text import CountVectorizer, BaseEstimator, ENGLISH_STOP_WORDS, TfidfTransformer"
   ]
  },
  {
   "cell_type": "code",
   "execution_count": null,
   "metadata": {},
   "outputs": [],
   "source": [
    "#client = Client()\n",
    "#cluster = LocalCluster()"
   ]
  },
  {
   "cell_type": "code",
   "execution_count": null,
   "metadata": {},
   "outputs": [],
   "source": [
    "def json_reader(absolute_parent_path):\n",
    "    total_data = []\n",
    "    file_list = (str(i) for i in Path('/data/capstone_data/messages/inbox/').glob('*/*.json'))\n",
    "    for file in file_list:\n",
    "        with open(file) as json_data:\n",
    "            try:\n",
    "                yield json.load(json_data)\n",
    "                #total_data.append(data_raw)\n",
    "                \n",
    "            except:\n",
    "                pass\n",
    "    return total_data"
   ]
  },
  {
   "cell_type": "code",
   "execution_count": null,
   "metadata": {},
   "outputs": [],
   "source": [
    "inbox_data = json_reader('/data/capstone_data/messages/inbox/')"
   ]
  },
  {
   "cell_type": "code",
   "execution_count": null,
   "metadata": {},
   "outputs": [],
   "source": [
    "archive_data = json_reader('/data/capstone_data/messages/archived_threads//')"
   ]
  },
  {
   "cell_type": "code",
   "execution_count": null,
   "metadata": {},
   "outputs": [],
   "source": [
    "all_data = [inbox_data, archive_data]"
   ]
  },
  {
   "cell_type": "code",
   "execution_count": null,
   "metadata": {},
   "outputs": [],
   "source": [
    "def unpack_list(dict_item):\n",
    "    content_list = []\n",
    "    for entry in dict_item:\n",
    "        for i in range(len(entry['messages'])):\n",
    "            try:\n",
    "                content = pd.DataFrame([i for i in entry['messages']][i])\n",
    "                content_list.append(content)\n",
    "            except:\n",
    "                pass\n",
    "    return pd.concat(content_list)"
   ]
  },
  {
   "cell_type": "code",
   "execution_count": null,
   "metadata": {},
   "outputs": [],
   "source": [
    "#all_comments = unpack_list(i) for i in all_data"
   ]
  },
  {
   "cell_type": "code",
   "execution_count": null,
   "metadata": {},
   "outputs": [],
   "source": [
    "%time\n",
    "all_comments.to_csv('fb_chat_history_sept_2009_oct_2020_test.csv')"
   ]
  },
  {
   "cell_type": "code",
   "execution_count": 2,
   "metadata": {},
   "outputs": [
    {
     "name": "stderr",
     "output_type": "stream",
     "text": [
      "/home/vivi/miniconda3/lib/python3.8/site-packages/IPython/core/interactiveshell.py:3145: DtypeWarning: Columns (12,14,15) have mixed types.Specify dtype option on import or set low_memory=False.\n",
      "  has_raised = await self.run_ast_nodes(code_ast.body, cell_name,\n"
     ]
    }
   ],
   "source": [
    "all_comments = pd.read_csv('fb_chat_history_sept_2009_oct_2020.csv')"
   ]
  },
  {
   "cell_type": "code",
   "execution_count": 3,
   "metadata": {},
   "outputs": [
    {
     "data": {
      "text/plain": [
       "Vivian Nguyen                89998\n",
       "Zee Ng                       53112\n",
       "Jane Yuan                    44814\n",
       "Chieko K. Kagiyama           42096\n",
       "Aly P. Lee                   23786\n",
       "                             ...  \n",
       "Jayne Elizabeth McFarland        2\n",
       "Rachel Williamson                2\n",
       "Monica Tolete                    2\n",
       "Alisa Phung                      2\n",
       "Clint Finley                     2\n",
       "Name: sender_name, Length: 1174, dtype: int64"
      ]
     },
     "execution_count": 3,
     "metadata": {},
     "output_type": "execute_result"
    }
   ],
   "source": [
    "all_comments['sender_name'].value_counts()"
   ]
  },
  {
   "cell_type": "code",
   "execution_count": null,
   "metadata": {},
   "outputs": [],
   "source": [
    "len(all_comments)"
   ]
  },
  {
   "cell_type": "code",
   "execution_count": null,
   "metadata": {},
   "outputs": [],
   "source": [
    "all_comments.tail()"
   ]
  },
  {
   "cell_type": "code",
   "execution_count": null,
   "metadata": {},
   "outputs": [],
   "source": [
    "all_comments['sender_name'].value_counts().tail(20)"
   ]
  },
  {
   "cell_type": "code",
   "execution_count": null,
   "metadata": {},
   "outputs": [],
   "source": [
    "msno.matrix(all_comments)"
   ]
  },
  {
   "cell_type": "code",
   "execution_count": null,
   "metadata": {},
   "outputs": [],
   "source": [
    "all_comments['timestamp_ms'].min(), all_comments['timestamp_ms'].max()"
   ]
  },
  {
   "cell_type": "code",
   "execution_count": null,
   "metadata": {},
   "outputs": [],
   "source": [
    "all_messages_no_context = all_comments['content'].dropna()"
   ]
  },
  {
   "cell_type": "code",
   "execution_count": null,
   "metadata": {},
   "outputs": [],
   "source": [
    "all_messages_no_context"
   ]
  },
  {
   "cell_type": "code",
   "execution_count": null,
   "metadata": {},
   "outputs": [],
   "source": [
    "cv = CountVectorizer()\n",
    "matrix = cv.fit_transform(all_messages_no_context)\n",
    "freqs = zip(cv.get_feature_names(), matrix.sum(axis=0).tolist()[0])\n",
    "df_words_no_stop = pd.DataFrame(freqs, columns=['word','count'])\n",
    "top_30_no_stop = df_words_no_stop.sort_values(by='count', ascending=False).head(30)"
   ]
  },
  {
   "cell_type": "code",
   "execution_count": null,
   "metadata": {},
   "outputs": [],
   "source": [
    "my_stop_words = ['to', 'and', 'the', 'you', 'it', 'my', 'of', 'in', 'is', 'that', 'for', 'me', 'but', 'this', 'so', 'like', 'was', 'with', 'on', 'just',\n",
    "             'be', 'have', 'not', 'we', 'if', 'she','are', 'can', 'up', 'at', 'her', 'out', 'as', 'your', 'they', 'about', 'do', 'or', 'all', 'when', \n",
    "             'what', 'one', 'also', 'get', 'know', 'from', 'an', 'all', 'how', 'now', 'who', 'then', 'too', 'more', 'there', 'because', 'really', \n",
    "             'want', 'them', 'will', 'would', 'am', 'been', 'people', 'think', 'got', 'feel', 'going', 'iâ', 've', 'itâ', 'donâ', 'time', 'youâ', 'll',\n",
    "                'don', 'https', 'll', 'thatâ', 'im']"
   ]
  },
  {
   "cell_type": "code",
   "execution_count": null,
   "metadata": {},
   "outputs": [],
   "source": [
    "stop_words = ENGLISH_STOP_WORDS.union(my_stop_words)"
   ]
  },
  {
   "cell_type": "code",
   "execution_count": null,
   "metadata": {},
   "outputs": [],
   "source": [
    "cv = CountVectorizer(stop_words=stop_words)"
   ]
  },
  {
   "cell_type": "code",
   "execution_count": null,
   "metadata": {},
   "outputs": [],
   "source": [
    "matrix = cv.fit_transform(all_messages_no_context)\n",
    "freqs = zip(cv.get_feature_names(), matrix.sum(axis=0).tolist()[0])\n",
    "df_words = pd.DataFrame(freqs, columns=['word','count'])"
   ]
  },
  {
   "cell_type": "code",
   "execution_count": null,
   "metadata": {},
   "outputs": [],
   "source": [
    "top_30 = df_words.sort_values(by='count', ascending=False).head(30)"
   ]
  },
  {
   "cell_type": "code",
   "execution_count": null,
   "metadata": {},
   "outputs": [],
   "source": [
    "top_30.head()"
   ]
  },
  {
   "cell_type": "code",
   "execution_count": null,
   "metadata": {},
   "outputs": [],
   "source": [
    "plt.figure(figsize=(25,23), facecolor='white')\n",
    "plt.subplot(2,1,1)\n",
    "sns.barplot(x=top_30['word'], y=top_30['count'])\n",
    "plt.title('Top 30 with Stop Words', fontsize=30)\n",
    "plt.xticks(fontsize=15)\n",
    "plt.yticks(fontsize=15)\n",
    "#plt.savefig('top_30_w_stop.png')\n",
    "plt.subplot(2,1,2)\n",
    "sns.barplot(x=top_30_no_stop['word'], y=top_30_no_stop['count'])\n",
    "plt.gca().invert_yaxis()\n",
    "plt.title('Top 30 no Stop Words', fontsize=30, pad=20)\n",
    "plt.gca().xaxis.tick_top()\n",
    "plt.xticks(fontsize=15)\n",
    "plt.yticks(fontsize=15);\n",
    "plt.savefig('top30_with_without.png')"
   ]
  },
  {
   "cell_type": "code",
   "execution_count": null,
   "metadata": {},
   "outputs": [],
   "source": [
    "matrix"
   ]
  },
  {
   "cell_type": "code",
   "execution_count": null,
   "metadata": {},
   "outputs": [],
   "source": [
    "ttran = TfidfTransformer(use_idf=True, smooth_idf=True)\n",
    "df_tfdif_all = ttran.fit_transform(matrix)"
   ]
  },
  {
   "cell_type": "code",
   "execution_count": null,
   "metadata": {},
   "outputs": [],
   "source": [
    "# top_words to dataframe sorted by highest occurance\n",
    "most_freq_tf = pd.DataFrame(sorted(df_tfdif_all, key = lambda x: x[1], reverse = True))"
   ]
  },
  {
   "cell_type": "code",
   "execution_count": null,
   "metadata": {},
   "outputs": [],
   "source": [
    "most_freq_tf"
   ]
  }
 ],
 "metadata": {
  "kernelspec": {
   "display_name": "Python 3",
   "language": "python",
   "name": "python3"
  },
  "language_info": {
   "codemirror_mode": {
    "name": "ipython",
    "version": 3
   },
   "file_extension": ".py",
   "mimetype": "text/x-python",
   "name": "python",
   "nbconvert_exporter": "python",
   "pygments_lexer": "ipython3",
   "version": "3.8.3"
  }
 },
 "nbformat": 4,
 "nbformat_minor": 4
}
